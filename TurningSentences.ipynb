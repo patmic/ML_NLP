{
  "nbformat": 4,
  "nbformat_minor": 0,
  "metadata": {
    "colab": {
      "name": "TurningSentences.ipynb",
      "provenance": [],
      "authorship_tag": "ABX9TyNFblyyQwKKlGTePDV6n42d",
      "include_colab_link": true
    },
    "kernelspec": {
      "name": "python3",
      "display_name": "Python 3"
    },
    "language_info": {
      "name": "python"
    }
  },
  "cells": [
    {
      "cell_type": "markdown",
      "metadata": {
        "id": "view-in-github",
        "colab_type": "text"
      },
      "source": [
        "<a href=\"https://colab.research.google.com/github/patmic/ML_NLP/blob/main/TurningSentences.ipynb\" target=\"_parent\"><img src=\"https://colab.research.google.com/assets/colab-badge.svg\" alt=\"Open In Colab\"/></a>"
      ]
    },
    {
      "cell_type": "code",
      "execution_count": 8,
      "metadata": {
        "id": "3UTsW436RaHY"
      },
      "outputs": [],
      "source": [
        "from tensorflow.keras.preprocessing.text import Tokenizer\n",
        "from tensorflow.keras.preprocessing.sequence import pad_sequences\n",
        "\n",
        "sentences = [\n",
        "             'I love my dog',\n",
        "             'I love my cat',\n",
        "             'You love my dog',\n",
        "             'Do you think my doy is amazing'\n",
        "] "
      ]
    },
    {
      "cell_type": "code",
      "source": [
        "tokenizer = Tokenizer(num_words=100, oov_token=\"<OOV>\")\n",
        "tokenizer.fit_on_texts(sentences)\n",
        "word_index = tokenizer.word_index\n",
        "\n",
        "sequences = tokenizer.texts_to_sequences(sentences)\n",
        "padded = pad_sequences(sequences)\n",
        "\n",
        "print(word_index)\n",
        "print(sequences)\n",
        "print(padded)"
      ],
      "metadata": {
        "colab": {
          "base_uri": "https://localhost:8080/"
        },
        "id": "WO8WZU15R7Vy",
        "outputId": "a15e8a4e-380b-482f-dbc1-2d928e922e61"
      },
      "execution_count": 9,
      "outputs": [
        {
          "output_type": "stream",
          "name": "stdout",
          "text": [
            "{'<OOV>': 1, 'my': 2, 'love': 3, 'i': 4, 'dog': 5, 'you': 6, 'cat': 7, 'do': 8, 'think': 9, 'doy': 10, 'is': 11, 'amazing': 12}\n",
            "[[4, 3, 2, 5], [4, 3, 2, 7], [6, 3, 2, 5], [8, 6, 9, 2, 10, 11, 12]]\n",
            "[[ 0  0  0  4  3  2  5]\n",
            " [ 0  0  0  4  3  2  7]\n",
            " [ 0  0  0  6  3  2  5]\n",
            " [ 8  6  9  2 10 11 12]]\n"
          ]
        }
      ]
    },
    {
      "cell_type": "code",
      "source": [
        "test_data = [\n",
        "             'I really love my dog',\n",
        "             'my dog loves my manatee'\n",
        "] \n",
        "test_seq = tokenizer.texts_to_sequences(test_data)\n",
        "print(test_seq)"
      ],
      "metadata": {
        "colab": {
          "base_uri": "https://localhost:8080/"
        },
        "id": "STJKq2qpTD7D",
        "outputId": "646465be-2d90-4c16-b64e-cc253b99f881"
      },
      "execution_count": 3,
      "outputs": [
        {
          "output_type": "stream",
          "name": "stdout",
          "text": [
            "[[3, 2, 1, 4], [1, 4, 1]]\n"
          ]
        }
      ]
    }
  ]
}